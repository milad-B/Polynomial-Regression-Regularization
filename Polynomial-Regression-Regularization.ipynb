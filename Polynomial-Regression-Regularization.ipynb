{
  "cells": [
    {
      "cell_type": "markdown",
      "metadata": {
        "id": "view-in-github",
        "colab_type": "text"
      },
      "source": [
        "<a href=\"https://colab.research.google.com/github/milad-B/Polynomial-Regression-Regularization/blob/main/Polynomial-Regression-Regularization.ipynb\" target=\"_parent\"><img src=\"https://colab.research.google.com/assets/colab-badge.svg\" alt=\"Open In Colab\"/></a>"
      ]
    },
    {
      "cell_type": "markdown",
      "metadata": {
        "id": "RPtL_YzJaJSo"
      },
      "source": [
        "<img src=\"https://filoger.com/wp-content/uploads/2021/09/circle-logo-1536x1536.png\" alt=\"keras\" width=\"150\" height=\"150\">\n",
        "<h1 align=center><font size = 7>Lab 08-Part1: \n",
        "    <br><br>Polynomial Regression</font></h1>\n",
        "<h1 align=center><font size = 4>Filoger Summer School, 1401 | DeadLine: 5th Mordad, 23:00 </font></h1>"
      ]
    },
    {
      "cell_type": "markdown",
      "metadata": {
        "id": "U1XA7gtTaJSu"
      },
      "source": [
        "## Question Sheet!\n",
        "\n",
        "<div class=\"alert alert-block alert-info\" style=\"margin-top: 20px\">\n",
        "<font size = 3>\n",
        "\n",
        "<b>Download the Question sheet from the following link!</b>\n",
        "-   <a href=\"https://new.edmodo.com/groups/filoger-summer-school-38664125\">Lab 08-Part1: Polynomial Regression</a>\n",
        "</font>\n",
        "</div>"
      ]
    },
    {
      "cell_type": "markdown",
      "metadata": {
        "id": "olnStFHoaJS0"
      },
      "source": [
        "# **Polynomial Regression**\n",
        "<br>\n",
        "<br>\n",
        "<br>"
      ]
    },
    {
      "cell_type": "markdown",
      "metadata": {
        "id": "6CP1tT_maJS1"
      },
      "source": [
        "## Step1: Import the libraries"
      ]
    },
    {
      "cell_type": "code",
      "execution_count": null,
      "metadata": {
        "execution": {
          "iopub.execute_input": "2021-09-11T19:00:58.967854Z",
          "iopub.status.busy": "2021-09-11T19:00:58.96748Z",
          "iopub.status.idle": "2021-09-11T19:01:00.108381Z",
          "shell.execute_reply": "2021-09-11T19:01:00.107484Z",
          "shell.execute_reply.started": "2021-09-11T19:00:58.967769Z"
        },
        "id": "RVlvfbmpaJS3"
      },
      "outputs": [],
      "source": [
        "#Leave the answer here!"
      ]
    },
    {
      "cell_type": "markdown",
      "metadata": {
        "id": "si-sqeSiaJS4"
      },
      "source": [
        "## Step2: Import the Data"
      ]
    },
    {
      "cell_type": "code",
      "execution_count": null,
      "metadata": {
        "execution": {
          "iopub.execute_input": "2021-09-11T19:01:00.224661Z",
          "iopub.status.busy": "2021-09-11T19:01:00.223924Z",
          "iopub.status.idle": "2021-09-11T19:01:01.060609Z",
          "shell.execute_reply": "2021-09-11T19:01:01.059486Z",
          "shell.execute_reply.started": "2021-09-11T19:01:00.224631Z"
        },
        "id": "4QmiKeIwaJS5"
      },
      "outputs": [],
      "source": [
        "#Leave the answer here!"
      ]
    },
    {
      "cell_type": "markdown",
      "metadata": {
        "id": "iaGYFwF8aJS5"
      },
      "source": [
        "## Step3: Data overview (General information about dataset)"
      ]
    },
    {
      "cell_type": "code",
      "execution_count": null,
      "metadata": {
        "id": "I0TuwPTiaJS6"
      },
      "outputs": [],
      "source": [
        "#Leave the answer here!"
      ]
    },
    {
      "cell_type": "markdown",
      "metadata": {
        "id": "4HgqzYh1aJS8"
      },
      "source": [
        "## Step4: Exploratory Data Analysis (EDA)**"
      ]
    },
    {
      "cell_type": "code",
      "execution_count": null,
      "metadata": {
        "execution": {
          "iopub.execute_input": "2021-09-11T19:01:01.062265Z",
          "iopub.status.busy": "2021-09-11T19:01:01.062014Z",
          "iopub.status.idle": "2021-09-11T19:01:15.052956Z",
          "shell.execute_reply": "2021-09-11T19:01:15.052061Z",
          "shell.execute_reply.started": "2021-09-11T19:01:01.062235Z"
        },
        "id": "yyxUzZhLaJS9"
      },
      "outputs": [],
      "source": [
        "#Leave the answer here!"
      ]
    },
    {
      "cell_type": "markdown",
      "metadata": {
        "id": "kuh8mV-BaJS-"
      },
      "source": [
        "# 📈 Training a Linear Regression Model"
      ]
    },
    {
      "cell_type": "markdown",
      "metadata": {
        "id": "GRm4LKPzaJTK"
      },
      "source": [
        "## Step5: Determine the Features & Target Variable"
      ]
    },
    {
      "cell_type": "code",
      "execution_count": null,
      "metadata": {
        "execution": {
          "iopub.execute_input": "2021-09-11T19:01:15.054661Z",
          "iopub.status.busy": "2021-09-11T19:01:15.054397Z",
          "iopub.status.idle": "2021-09-11T19:01:15.060438Z",
          "shell.execute_reply": "2021-09-11T19:01:15.059419Z",
          "shell.execute_reply.started": "2021-09-11T19:01:15.054631Z"
        },
        "id": "kzbgSIpzaJTK"
      },
      "outputs": [],
      "source": [
        "#Leave the answer here!"
      ]
    },
    {
      "cell_type": "markdown",
      "metadata": {
        "id": "6n8xgJGuaJTL"
      },
      "source": [
        "## Step6: Preprocessing"
      ]
    },
    {
      "cell_type": "code",
      "execution_count": null,
      "metadata": {
        "id": "q-rmE3jYaJTL"
      },
      "outputs": [],
      "source": [
        "#Leave the answer here!"
      ]
    },
    {
      "cell_type": "markdown",
      "metadata": {
        "id": "v7OGqaG7aJTL"
      },
      "source": [
        "## Step7: Split the Dataset to Train & Test"
      ]
    },
    {
      "cell_type": "code",
      "execution_count": null,
      "metadata": {
        "id": "oM_wfRpeaJTM"
      },
      "outputs": [],
      "source": [
        "#Leave the answer here!"
      ]
    },
    {
      "cell_type": "markdown",
      "metadata": {
        "id": "6x8-AraxaJTM"
      },
      "source": [
        "## Step8: Train the Model"
      ]
    },
    {
      "cell_type": "code",
      "execution_count": null,
      "metadata": {
        "id": "CwrrOxHoaJTN"
      },
      "outputs": [],
      "source": [
        "#Leave the answer here!"
      ]
    },
    {
      "cell_type": "markdown",
      "metadata": {
        "id": "qV-nxQWHaJTN"
      },
      "source": [
        "## Step9: Predicting Test Data"
      ]
    },
    {
      "cell_type": "code",
      "execution_count": null,
      "metadata": {
        "execution": {
          "iopub.execute_input": "2021-09-11T19:01:15.064005Z",
          "iopub.status.busy": "2021-09-11T19:01:15.063758Z",
          "iopub.status.idle": "2021-09-11T19:01:15.072904Z",
          "shell.execute_reply": "2021-09-11T19:01:15.071841Z",
          "shell.execute_reply.started": "2021-09-11T19:01:15.063977Z"
        },
        "id": "MTl83wCpaJTO"
      },
      "outputs": [],
      "source": [
        "#Leave the answer here!"
      ]
    },
    {
      "cell_type": "markdown",
      "metadata": {
        "id": "-wwb50R4aJTP"
      },
      "source": [
        "## Step10: Evaluating the Model"
      ]
    },
    {
      "cell_type": "code",
      "execution_count": null,
      "metadata": {
        "id": "TzOOD41yaJTQ"
      },
      "outputs": [],
      "source": [
        "#Leave the answer here!"
      ]
    },
    {
      "cell_type": "markdown",
      "metadata": {
        "id": "SrjjQ5Z0aJTQ"
      },
      "source": [
        "### 🟣Compare to the simple linear regression:"
      ]
    },
    {
      "cell_type": "code",
      "execution_count": null,
      "metadata": {
        "execution": {
          "iopub.execute_input": "2021-09-11T19:01:15.123144Z",
          "iopub.status.busy": "2021-09-11T19:01:15.122947Z",
          "iopub.status.idle": "2021-09-11T19:01:15.136241Z",
          "shell.execute_reply": "2021-09-11T19:01:15.135412Z",
          "shell.execute_reply.started": "2021-09-11T19:01:15.123121Z"
        },
        "id": "EomBs4Z0aJTR"
      },
      "outputs": [],
      "source": [
        "#Leave the answer here!"
      ]
    },
    {
      "cell_type": "markdown",
      "metadata": {
        "id": "Ad6_ZX1naJTR"
      },
      "source": [
        "## Step11: Adjusting Model Parameters"
      ]
    },
    {
      "cell_type": "code",
      "execution_count": null,
      "metadata": {
        "id": "IFmMtdzPaJTR"
      },
      "outputs": [],
      "source": [
        "#Leave the answer here!"
      ]
    },
    {
      "cell_type": "markdown",
      "metadata": {
        "id": "PhCZNWv-aJTS"
      },
      "source": [
        "## Step12: Plot the Polynomial degree VS RMSE"
      ]
    },
    {
      "cell_type": "code",
      "execution_count": null,
      "metadata": {
        "id": "_v3WAfI3aJTS"
      },
      "outputs": [],
      "source": [
        "#Leave the answer here!"
      ]
    },
    {
      "cell_type": "markdown",
      "metadata": {
        "id": "eEE8148QaJTS"
      },
      "source": [
        "## Step13: Finalizing Model Parameters:"
      ]
    },
    {
      "cell_type": "code",
      "execution_count": null,
      "metadata": {
        "id": "8eestyp6aJTT"
      },
      "outputs": [],
      "source": [
        "#Leave the answer here!"
      ]
    },
    {
      "cell_type": "markdown",
      "metadata": {
        "id": "oO4dq0EkaJTT"
      },
      "source": [
        "## Step14: Saving the Model"
      ]
    },
    {
      "cell_type": "code",
      "execution_count": null,
      "metadata": {
        "id": "efemWORUaJTT"
      },
      "outputs": [],
      "source": [
        "#Leave the answer here!"
      ]
    },
    {
      "cell_type": "markdown",
      "metadata": {
        "id": "sJncIuwaaJTU"
      },
      "source": [
        "### 🟣Deployment"
      ]
    },
    {
      "cell_type": "code",
      "execution_count": null,
      "metadata": {
        "id": "-r5ofS9faJTU"
      },
      "outputs": [],
      "source": [
        "#Leave the answer here!"
      ]
    },
    {
      "cell_type": "markdown",
      "metadata": {
        "id": "aTP_hLYFaJTU"
      },
      "source": [
        "## Best Wishes!, Filoger\n",
        "\n",
        "\n"
      ]
    }
  ],
  "metadata": {
    "kernelspec": {
      "display_name": "Python 3 (ipykernel)",
      "language": "python",
      "name": "python3"
    },
    "language_info": {
      "codemirror_mode": {
        "name": "ipython",
        "version": 3
      },
      "file_extension": ".py",
      "mimetype": "text/x-python",
      "name": "python",
      "nbconvert_exporter": "python",
      "pygments_lexer": "ipython3",
      "version": "3.9.13"
    },
    "colab": {
      "name": "answersheet-lab08-1-summerschool.ipynb",
      "provenance": [],
      "collapsed_sections": [],
      "include_colab_link": true
    }
  },
  "nbformat": 4,
  "nbformat_minor": 0
}